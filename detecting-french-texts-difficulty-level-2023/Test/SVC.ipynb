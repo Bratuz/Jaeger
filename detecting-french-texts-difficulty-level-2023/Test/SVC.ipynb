{
  "nbformat": 4,
  "nbformat_minor": 0,
  "metadata": {
    "colab": {
      "provenance": [],
      "gpuType": "T4"
    },
    "kernelspec": {
      "name": "python3",
      "display_name": "Python 3"
    },
    "language_info": {
      "name": "python"
    },
    "accelerator": "GPU"
  },
  "cells": [
    {
      "cell_type": "code",
      "execution_count": null,
      "metadata": {
        "id": "al4Qr6hUxjU6"
      },
      "outputs": [],
      "source": [
        "# Importing necessary libraries\n",
        "import pandas as pd\n",
        "import numpy as np\n",
        "import matplotlib.pyplot as plt\n",
        "\n",
        "\n",
        "from sklearn.model_selection import train_test_split\n",
        "from sklearn.feature_extraction.text import TfidfVectorizer\n",
        "from sklearn.ensemble import RandomForestClassifier\n",
        "from sklearn.metrics import accuracy_score, classification_report, confusion_matrix\n",
        "from sklearn.neighbors import KNeighborsClassifier\n",
        "from sklearn.linear_model import LogisticRegression\n",
        "from sklearn.svm import SVC\n",
        "from sklearn.linear_model import LogisticRegressionCV\n",
        "from sklearn.model_selection import GridSearchCV\n",
        "from sklearn.model_selection import cross_val_score\n",
        "from google.colab import files\n",
        "from sklearn.metrics import precision_recall_fscore_support\n",
        "from sklearn.tree import DecisionTreeClassifier\n",
        "\n",
        "\n",
        "# Loading the sample, training, and test datasets\n",
        "sample = pd.read_csv(\"https://raw.githubusercontent.com/Bratuz/Jaeger/master/detecting-french-texts-difficulty-level-2023/Data/sample_submission.csv\")\n",
        "train_dataset = pd.read_csv(\"https://raw.githubusercontent.com/Bratuz/Jaeger/master/detecting-french-texts-difficulty-level-2023/Data/training_data.csv\")\n",
        "test_dataset = pd.read_csv(\"https://raw.githubusercontent.com/Bratuz/Jaeger/master/detecting-french-texts-difficulty-level-2023/Data/unlabelled_test_data.csv\")"
      ]
    },
    {
      "cell_type": "code",
      "source": [
        "# Extracting features (X) and target variable (y) from the training dataset\n",
        "X = train_dataset[\"sentence\"]\n",
        "y = train_dataset[\"difficulty\"]"
      ],
      "metadata": {
        "id": "UG-U9fd_ya41"
      },
      "execution_count": null,
      "outputs": []
    },
    {
      "cell_type": "code",
      "source": [
        "# Splitting the dataset into training and testing sets\n",
        "X_train, X_test, y_train,y_test=train_test_split(X, y, test_size=0.2, random_state=42)"
      ],
      "metadata": {
        "id": "D456ORTGyq4u"
      },
      "execution_count": null,
      "outputs": []
    },
    {
      "cell_type": "code",
      "source": [
        "# Using TF-IDF to represent the text\n",
        "tfidf_vectorizer = TfidfVectorizer()\n",
        "X_train_tfidf = tfidf_vectorizer.fit_transform(X_train)\n",
        "X_test_tfidf = tfidf_vectorizer.transform(X_test)"
      ],
      "metadata": {
        "id": "2Pw4IpNSybkr"
      },
      "execution_count": null,
      "outputs": []
    },
    {
      "cell_type": "code",
      "source": [
        "%%capture\n",
        "# The following block initializes, trains, and evaluates a Support Vector Classifier (SVC) model.\n",
        "\n",
        "# Initialize the SVC model with the specified linear kernel\n",
        "svc_model = SVC(kernel='linear', random_state=42)  # You can adjust the kernel as per your choice (e.g., 'linear', 'rbf', etc.)\n",
        "\n",
        "# Train the SVC model on the training set\n",
        "svc_model.fit(X_train_tfidf, y_train)\n",
        "\n",
        "# Make predictions on the test set using the trained model\n",
        "predictions_svc = svc_model.predict(X_test_tfidf)\n",
        "\n",
        "# Evaluate the performance of the SVC model\n",
        "accuracy_svc = accuracy_score(y_test, predictions_svc)\n",
        "precision_svc, recall_svc, f1_svc, _ = precision_recall_fscore_support(y_test, predictions_svc, average='weighted')"
      ],
      "metadata": {
        "id": "cfdomcEkym7w"
      },
      "execution_count": null,
      "outputs": []
    },
    {
      "cell_type": "code",
      "source": [
        "# Displaying results\n",
        "print(f\"Accuracy (SVC): {accuracy_svc}\")\n",
        "print(f\"Precision: {precision_svc}\")\n",
        "print(f\"Recall: {recall_svc}\")\n",
        "print(f\"F1 Score: {f1_svc}\")"
      ],
      "metadata": {
        "colab": {
          "base_uri": "https://localhost:8080/"
        },
        "id": "BdNC_uldJFEo",
        "outputId": "82cc9e59-3a87-4412-92ab-6c17de1551c3"
      },
      "execution_count": null,
      "outputs": [
        {
          "output_type": "stream",
          "name": "stdout",
          "text": [
            "Accuracy (SVC): 0.4552083333333333\n",
            "Precision: 0.4508158506257017\n",
            "Recall: 0.4552083333333333\n",
            "F1 Score: 0.4509219661114091\n"
          ]
        }
      ]
    },
    {
      "cell_type": "code",
      "source": [
        "# Loading the test dataset for final predictions\n",
        "X_test_final = test_dataset[\"sentence\"]\n",
        "\n",
        "# Using TF-IDF to represent the text of the test set\n",
        "X_test_final_tfidf = tfidf_vectorizer.transform(X_test_final)\n",
        "\n",
        "# Making predictions on the final test set with the trained SVC model\n",
        "predictions_test_final = svc_model.predict(X_test_final_tfidf)\n",
        "\n",
        "# Creating a DataFrame with test set predictions\n",
        "result_df = pd.DataFrame({\"id\": test_dataset[\"id\"], \"difficulty\": predictions_test_final})\n",
        "\n",
        "# Saving the predictions to a CSV file\n",
        "result_df.to_csv(\"predictions_test.csv\", index=False)"
      ],
      "metadata": {
        "id": "M7OvPS0J3VB5"
      },
      "execution_count": null,
      "outputs": []
    },
    {
      "cell_type": "code",
      "source": [
        "# Downloading the CSV file containing the final predictions\n",
        "files.download(\"predictions_test.csv\")"
      ],
      "metadata": {
        "id": "fSRwVqRo96yf",
        "colab": {
          "base_uri": "https://localhost:8080/",
          "height": 17
        },
        "outputId": "8e86354e-40a7-4da9-f562-0dde517531c6"
      },
      "execution_count": null,
      "outputs": [
        {
          "output_type": "display_data",
          "data": {
            "text/plain": [
              "<IPython.core.display.Javascript object>"
            ],
            "application/javascript": [
              "\n",
              "    async function download(id, filename, size) {\n",
              "      if (!google.colab.kernel.accessAllowed) {\n",
              "        return;\n",
              "      }\n",
              "      const div = document.createElement('div');\n",
              "      const label = document.createElement('label');\n",
              "      label.textContent = `Downloading \"${filename}\": `;\n",
              "      div.appendChild(label);\n",
              "      const progress = document.createElement('progress');\n",
              "      progress.max = size;\n",
              "      div.appendChild(progress);\n",
              "      document.body.appendChild(div);\n",
              "\n",
              "      const buffers = [];\n",
              "      let downloaded = 0;\n",
              "\n",
              "      const channel = await google.colab.kernel.comms.open(id);\n",
              "      // Send a message to notify the kernel that we're ready.\n",
              "      channel.send({})\n",
              "\n",
              "      for await (const message of channel.messages) {\n",
              "        // Send a message to notify the kernel that we're ready.\n",
              "        channel.send({})\n",
              "        if (message.buffers) {\n",
              "          for (const buffer of message.buffers) {\n",
              "            buffers.push(buffer);\n",
              "            downloaded += buffer.byteLength;\n",
              "            progress.value = downloaded;\n",
              "          }\n",
              "        }\n",
              "      }\n",
              "      const blob = new Blob(buffers, {type: 'application/binary'});\n",
              "      const a = document.createElement('a');\n",
              "      a.href = window.URL.createObjectURL(blob);\n",
              "      a.download = filename;\n",
              "      div.appendChild(a);\n",
              "      a.click();\n",
              "      div.remove();\n",
              "    }\n",
              "  "
            ]
          },
          "metadata": {}
        },
        {
          "output_type": "display_data",
          "data": {
            "text/plain": [
              "<IPython.core.display.Javascript object>"
            ],
            "application/javascript": [
              "download(\"download_c078357e-3466-4bb4-ae20-339a166da600\", \"predictions_test.csv\", 8504)"
            ]
          },
          "metadata": {}
        }
      ]
    }
  ]
}