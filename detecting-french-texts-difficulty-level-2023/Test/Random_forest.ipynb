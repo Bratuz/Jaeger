{
  "nbformat": 4,
  "nbformat_minor": 0,
  "metadata": {
    "colab": {
      "provenance": [],
      "gpuType": "T4"
    },
    "kernelspec": {
      "name": "python3",
      "display_name": "Python 3"
    },
    "language_info": {
      "name": "python"
    },
    "accelerator": "GPU"
  },
  "cells": [
    {
      "cell_type": "code",
      "execution_count": 1,
      "metadata": {
        "id": "al4Qr6hUxjU6"
      },
      "outputs": [],
      "source": [
        "# Importing necessary libraries\n",
        "import pandas as pd\n",
        "import numpy as np\n",
        "import matplotlib.pyplot as plt\n",
        "\n",
        "\n",
        "from sklearn.model_selection import train_test_split\n",
        "from sklearn.feature_extraction.text import TfidfVectorizer\n",
        "from sklearn.ensemble import RandomForestClassifier\n",
        "from sklearn.metrics import accuracy_score, classification_report, confusion_matrix\n",
        "from sklearn.neighbors import KNeighborsClassifier\n",
        "from sklearn.linear_model import LogisticRegression\n",
        "from sklearn.svm import SVC\n",
        "from sklearn.linear_model import LogisticRegressionCV\n",
        "from sklearn.model_selection import GridSearchCV\n",
        "from sklearn.model_selection import cross_val_score\n",
        "from google.colab import files\n",
        "from sklearn.metrics import precision_recall_fscore_support\n",
        "from sklearn.tree import DecisionTreeClassifier\n",
        "\n",
        "\n",
        "# Loading the sample, training, and test datasets\n",
        "sample = pd.read_csv(\"https://raw.githubusercontent.com/Bratuz/Jaeger/master/detecting-french-texts-difficulty-level-2023/Data/sample_submission.csv\")\n",
        "train_dataset = pd.read_csv(\"https://raw.githubusercontent.com/Bratuz/Jaeger/master/detecting-french-texts-difficulty-level-2023/Data/training_data.csv\")\n",
        "test_dataset = pd.read_csv(\"https://raw.githubusercontent.com/Bratuz/Jaeger/master/detecting-french-texts-difficulty-level-2023/Data/unlabelled_test_data.csv\")"
      ]
    },
    {
      "cell_type": "code",
      "source": [
        "# Extracting features (X) and target variable (y) from the training dataset\n",
        "X = train_dataset[\"sentence\"]\n",
        "y = train_dataset[\"difficulty\"]"
      ],
      "metadata": {
        "id": "UG-U9fd_ya41"
      },
      "execution_count": 2,
      "outputs": []
    },
    {
      "cell_type": "code",
      "source": [
        "# Splitting the dataset into training and testing sets\n",
        "X_train, X_test, y_train,y_test=train_test_split(X, y, test_size=0.2, random_state=42)"
      ],
      "metadata": {
        "id": "D456ORTGyq4u"
      },
      "execution_count": 3,
      "outputs": []
    },
    {
      "cell_type": "code",
      "source": [
        "# Using TF-IDF to represent the text\n",
        "tfidf_vectorizer = TfidfVectorizer()\n",
        "X_train_tfidf = tfidf_vectorizer.fit_transform(X_train)\n",
        "X_test_tfidf = tfidf_vectorizer.transform(X_test)"
      ],
      "metadata": {
        "id": "2Pw4IpNSybkr"
      },
      "execution_count": 4,
      "outputs": []
    },
    {
      "cell_type": "code",
      "source": [
        "%%capture\n",
        "# The following block initializes, trains, and evaluates a Random Forest model.\n",
        "\n",
        "# Initialize the Random Forest model with the specified number of estimators\n",
        "rf_model = RandomForestClassifier(n_estimators=100, random_state=42)  # You can adjust the number of estimators as per your choice\n",
        "\n",
        "# Train the Random Forest model on the training set\n",
        "rf_model.fit(X_train_tfidf, y_train)\n",
        "\n",
        "# Make predictions on the test set using the trained model\n",
        "predictions_rf = rf_model.predict(X_test_tfidf)\n",
        "\n",
        "# Evaluate the performance of the Random Forest model\n",
        "accuracy_rf = accuracy_score(y_test, predictions_rf)\n",
        "precision_rf, recall_rf, f1_rf, _ = precision_recall_fscore_support(y_test, predictions_rf, average='weighted')"
      ],
      "metadata": {
        "id": "cfdomcEkym7w"
      },
      "execution_count": 5,
      "outputs": []
    },
    {
      "cell_type": "code",
      "source": [
        "# Displaying results\n",
        "print(f\"Accuracy (Random Forest): {accuracy_rf}\")\n",
        "print(f\"Precision: {precision_rf}\")\n",
        "print(f\"Recall: {recall_rf}\")\n",
        "print(f\"F1 Score: {f1_rf}\")"
      ],
      "metadata": {
        "colab": {
          "base_uri": "https://localhost:8080/"
        },
        "id": "BdNC_uldJFEo",
        "outputId": "ffd57c60-c980-4025-8c30-8fabb5fd8f74"
      },
      "execution_count": 6,
      "outputs": [
        {
          "output_type": "stream",
          "name": "stdout",
          "text": [
            "Accuracy (Random Forest): 0.39166666666666666\n",
            "Precision: 0.39660960624031383\n",
            "Recall: 0.39166666666666666\n",
            "F1 Score: 0.37769086230428955\n"
          ]
        }
      ]
    },
    {
      "cell_type": "code",
      "source": [
        "# Loading the test dataset for final predictions\n",
        "X_test_final = test_dataset[\"sentence\"]\n",
        "\n",
        "# Using TF-IDF to represent the text of the test set\n",
        "X_test_final_tfidf = tfidf_vectorizer.transform(X_test_final)\n",
        "\n",
        "# Making predictions on the final test set with the trained Random Forest model\n",
        "predictions_test_final = rf_model.predict(X_test_final_tfidf)\n",
        "\n",
        "# Creating a DataFrame with test set predictions\n",
        "result_df = pd.DataFrame({\"id\": test_dataset[\"id\"], \"difficulty\": predictions_test_final})\n",
        "\n",
        "# Saving the predictions to a CSV file\n",
        "result_df.to_csv(\"predictions_test.csv\", index=False)"
      ],
      "metadata": {
        "id": "M7OvPS0J3VB5"
      },
      "execution_count": 7,
      "outputs": []
    },
    {
      "cell_type": "code",
      "source": [
        "# Downloading the CSV file containing the final predictions\n",
        "files.download(\"predictions_test.csv\")"
      ],
      "metadata": {
        "id": "fSRwVqRo96yf",
        "colab": {
          "base_uri": "https://localhost:8080/",
          "height": 17
        },
        "outputId": "9b82826c-eae1-45cb-db79-0ef7a27a9303"
      },
      "execution_count": 8,
      "outputs": [
        {
          "output_type": "display_data",
          "data": {
            "text/plain": [
              "<IPython.core.display.Javascript object>"
            ],
            "application/javascript": [
              "\n",
              "    async function download(id, filename, size) {\n",
              "      if (!google.colab.kernel.accessAllowed) {\n",
              "        return;\n",
              "      }\n",
              "      const div = document.createElement('div');\n",
              "      const label = document.createElement('label');\n",
              "      label.textContent = `Downloading \"${filename}\": `;\n",
              "      div.appendChild(label);\n",
              "      const progress = document.createElement('progress');\n",
              "      progress.max = size;\n",
              "      div.appendChild(progress);\n",
              "      document.body.appendChild(div);\n",
              "\n",
              "      const buffers = [];\n",
              "      let downloaded = 0;\n",
              "\n",
              "      const channel = await google.colab.kernel.comms.open(id);\n",
              "      // Send a message to notify the kernel that we're ready.\n",
              "      channel.send({})\n",
              "\n",
              "      for await (const message of channel.messages) {\n",
              "        // Send a message to notify the kernel that we're ready.\n",
              "        channel.send({})\n",
              "        if (message.buffers) {\n",
              "          for (const buffer of message.buffers) {\n",
              "            buffers.push(buffer);\n",
              "            downloaded += buffer.byteLength;\n",
              "            progress.value = downloaded;\n",
              "          }\n",
              "        }\n",
              "      }\n",
              "      const blob = new Blob(buffers, {type: 'application/binary'});\n",
              "      const a = document.createElement('a');\n",
              "      a.href = window.URL.createObjectURL(blob);\n",
              "      a.download = filename;\n",
              "      div.appendChild(a);\n",
              "      a.click();\n",
              "      div.remove();\n",
              "    }\n",
              "  "
            ]
          },
          "metadata": {}
        },
        {
          "output_type": "display_data",
          "data": {
            "text/plain": [
              "<IPython.core.display.Javascript object>"
            ],
            "application/javascript": [
              "download(\"download_9467bb83-3211-4296-9cec-79260da37aa9\", \"predictions_test.csv\", 8504)"
            ]
          },
          "metadata": {}
        }
      ]
    }
  ]
}